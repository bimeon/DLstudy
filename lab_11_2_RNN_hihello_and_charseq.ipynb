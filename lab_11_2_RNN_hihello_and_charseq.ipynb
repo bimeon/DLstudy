{
  "nbformat": 4,
  "nbformat_minor": 0,
  "metadata": {
    "colab": {
      "provenance": [],
      "authorship_tag": "ABX9TyNnXMOGRoF+xftFPeigt0uQ",
      "include_colab_link": true
    },
    "kernelspec": {
      "name": "python3",
      "display_name": "Python 3"
    },
    "language_info": {
      "name": "python"
    }
  },
  "cells": [
    {
      "cell_type": "markdown",
      "metadata": {
        "id": "view-in-github",
        "colab_type": "text"
      },
      "source": [
        "<a href=\"https://colab.research.google.com/github/SeohyunLee0321/DLstudy/blob/main/lab_11_2_RNN_hihello_and_charseq.ipynb\" target=\"_parent\"><img src=\"https://colab.research.google.com/assets/colab-badge.svg\" alt=\"Open In Colab\"/></a>"
      ]
    },
    {
      "cell_type": "code",
      "execution_count": null,
      "metadata": {
        "colab": {
          "base_uri": "https://localhost:8080/"
        },
        "id": "hUVIahYU42Gs",
        "outputId": "a9350a0f-ea62-403d-9606-11cc5313efcf"
      },
      "outputs": [
        {
          "output_type": "execute_result",
          "data": {
            "text/plain": [
              "<torch._C.Generator at 0x7e20e1705430>"
            ]
          },
          "metadata": {},
          "execution_count": 1
        }
      ],
      "source": [
        "import torch\n",
        "import torch.optim as optim\n",
        "import numpy as np\n",
        "# Random seed to make results deterministic and reproducible\n",
        "torch.manual_seed(0)"
      ]
    },
    {
      "cell_type": "markdown",
      "source": [
        "# charseq"
      ],
      "metadata": {
        "id": "RoHsnISM5Mbo"
      }
    },
    {
      "cell_type": "code",
      "source": [
        "sample = \" if you want you\"\n",
        "\n",
        "# make dictionary\n",
        "char_set = list(set(sample))\n",
        "char_dic = {c: i for i, c in enumerate(char_set)}\n",
        "print(char_dic)"
      ],
      "metadata": {
        "colab": {
          "base_uri": "https://localhost:8080/"
        },
        "id": "WnPjooog4617",
        "outputId": "3e2e2574-48b9-4a04-bc25-2987486541d2"
      },
      "execution_count": null,
      "outputs": [
        {
          "output_type": "stream",
          "name": "stdout",
          "text": [
            "{' ': 0, 'n': 1, 'o': 2, 'f': 3, 'a': 4, 'y': 5, 'u': 6, 'w': 7, 'i': 8, 't': 9}\n"
          ]
        }
      ]
    },
    {
      "cell_type": "code",
      "source": [
        "# hyper parameters\n",
        "dic_size = len(char_dic)\n",
        "hidden_size = len(char_dic)\n",
        "learning_rate = 0.1\n",
        "\n",
        "# data setting\n",
        "sample_idx = [char_dic[c] for c in sample]\n",
        "x_data = [sample_idx[:-1]]\n",
        "x_one_hot = [np.eye(dic_size)[x] for x in x_data]\n",
        "y_data = [sample_idx[1:]]\n",
        "\n",
        "# transform as torch tensor variable\n",
        "X = torch.FloatTensor(x_one_hot)\n",
        "Y = torch.LongTensor(y_data)\n",
        "\n",
        "# declare RNN\n",
        "rnn = torch.nn.RNN(dic_size, hidden_size, batch_first=True)\n",
        "\n",
        "# loss & optimizer setting\n",
        "criterion = torch.nn.CrossEntropyLoss()\n",
        "optimizer = optim.Adam(rnn.parameters(), learning_rate)"
      ],
      "metadata": {
        "colab": {
          "base_uri": "https://localhost:8080/"
        },
        "id": "vSGWWKMA492z",
        "outputId": "5e66dfca-125c-4a5d-da39-998525083f59"
      },
      "execution_count": null,
      "outputs": [
        {
          "output_type": "stream",
          "name": "stderr",
          "text": [
            "<ipython-input-3-295d424d77fe>:13: UserWarning: Creating a tensor from a list of numpy.ndarrays is extremely slow. Please consider converting the list to a single numpy.ndarray with numpy.array() before converting to a tensor. (Triggered internally at ../torch/csrc/utils/tensor_new.cpp:245.)\n",
            "  X = torch.FloatTensor(x_one_hot)\n"
          ]
        }
      ]
    },
    {
      "cell_type": "code",
      "source": [
        "# start training\n",
        "for i in range(50):\n",
        "    optimizer.zero_grad()\n",
        "    outputs, _status = rnn(X)\n",
        "    loss = criterion(outputs.view(-1, dic_size), Y.view(-1))\n",
        "    loss.backward()\n",
        "    optimizer.step()\n",
        "\n",
        "    result = outputs.data.numpy().argmax(axis=2)\n",
        "    result_str = ''.join([char_set[c] for c in np.squeeze(result)])\n",
        "    print(i, \"loss: \", loss.item(), \"prediction: \", result, \"true Y: \", y_data, \"prediction str: \", result_str)"
      ],
      "metadata": {
        "colab": {
          "base_uri": "https://localhost:8080/"
        },
        "id": "0JER6nxw5A-u",
        "outputId": "e501debd-7f9c-4b11-e404-004b3229489e"
      },
      "execution_count": null,
      "outputs": [
        {
          "output_type": "stream",
          "name": "stdout",
          "text": [
            "0 loss:  2.310511827468872 prediction:  [[5 8 7 5 7 7 8 5 0 5 8 7 5 7 7]] true Y:  [[8, 3, 0, 5, 2, 6, 0, 7, 4, 1, 9, 0, 5, 2, 6]] prediction str:  yiwywwiy yiwyww\n",
            "1 loss:  2.044523000717163 prediction:  [[5 0 6 6 7 6 5 6 0 0 0 0 6 7 6]] true Y:  [[8, 3, 0, 5, 2, 6, 0, 7, 4, 1, 9, 0, 5, 2, 6]] prediction str:  y uuwuyu    uwu\n",
            "2 loss:  1.953376054763794 prediction:  [[5 0 0 0 0 0 0 0 0 0 0 0 0 0 0]] true Y:  [[8, 3, 0, 5, 2, 6, 0, 7, 4, 1, 9, 0, 5, 2, 6]] prediction str:  y              \n",
            "3 loss:  1.677649736404419 prediction:  [[5 0 0 5 7 6 0 0 0 0 0 0 5 7 6]] true Y:  [[8, 3, 0, 5, 2, 6, 0, 7, 4, 1, 9, 0, 5, 2, 6]] prediction str:  y  ywu      ywu\n",
            "4 loss:  1.5247108936309814 prediction:  [[5 0 0 5 2 6 0 2 4 1 0 0 5 2 6]] true Y:  [[8, 3, 0, 5, 2, 6, 0, 7, 4, 1, 9, 0, 5, 2, 6]] prediction str:  y  you oan  you\n",
            "5 loss:  1.4264003038406372 prediction:  [[5 0 0 5 2 6 5 7 4 1 0 0 5 2 6]] true Y:  [[8, 3, 0, 5, 2, 6, 0, 7, 4, 1, 9, 0, 5, 2, 6]] prediction str:  y  youywan  you\n",
            "6 loss:  1.3503810167312622 prediction:  [[5 3 0 5 2 6 5 7 4 1 9 0 5 2 6]] true Y:  [[8, 3, 0, 5, 2, 6, 0, 7, 4, 1, 9, 0, 5, 2, 6]] prediction str:  yf youywant you\n",
            "7 loss:  1.2874053716659546 prediction:  [[5 3 0 5 2 6 5 7 4 1 9 0 5 7 6]] true Y:  [[8, 3, 0, 5, 2, 6, 0, 7, 4, 1, 9, 0, 5, 2, 6]] prediction str:  yf youywant ywu\n",
            "8 loss:  1.2274584770202637 prediction:  [[5 3 0 5 2 6 5 7 4 1 9 0 5 2 6]] true Y:  [[8, 3, 0, 5, 2, 6, 0, 7, 4, 1, 9, 0, 5, 2, 6]] prediction str:  yf youywant you\n",
            "9 loss:  1.1593623161315918 prediction:  [[5 3 0 5 2 6 5 7 4 1 9 0 5 2 6]] true Y:  [[8, 3, 0, 5, 2, 6, 0, 7, 4, 1, 9, 0, 5, 2, 6]] prediction str:  yf youywant you\n",
            "10 loss:  1.1360222101211548 prediction:  [[8 3 0 5 2 6 5 7 4 1 9 0 5 2 6]] true Y:  [[8, 3, 0, 5, 2, 6, 0, 7, 4, 1, 9, 0, 5, 2, 6]] prediction str:  if youywant you\n",
            "11 loss:  1.0825941562652588 prediction:  [[8 3 0 5 2 6 5 7 4 1 9 0 5 2 6]] true Y:  [[8, 3, 0, 5, 2, 6, 0, 7, 4, 1, 9, 0, 5, 2, 6]] prediction str:  if youywant you\n",
            "12 loss:  1.0411328077316284 prediction:  [[8 3 0 5 2 6 5 7 4 1 9 0 5 2 6]] true Y:  [[8, 3, 0, 5, 2, 6, 0, 7, 4, 1, 9, 0, 5, 2, 6]] prediction str:  if youywant you\n",
            "13 loss:  1.0229369401931763 prediction:  [[8 3 0 5 2 6 5 7 4 1 9 0 5 2 6]] true Y:  [[8, 3, 0, 5, 2, 6, 0, 7, 4, 1, 9, 0, 5, 2, 6]] prediction str:  if youywant you\n",
            "14 loss:  1.0042216777801514 prediction:  [[8 3 0 5 2 6 5 7 4 1 9 0 5 2 6]] true Y:  [[8, 3, 0, 5, 2, 6, 0, 7, 4, 1, 9, 0, 5, 2, 6]] prediction str:  if youywant you\n",
            "15 loss:  0.980279266834259 prediction:  [[8 3 0 5 2 6 5 7 4 1 9 0 5 2 6]] true Y:  [[8, 3, 0, 5, 2, 6, 0, 7, 4, 1, 9, 0, 5, 2, 6]] prediction str:  if youywant you\n",
            "16 loss:  0.9580799341201782 prediction:  [[8 3 0 5 2 6 5 7 4 1 9 0 5 2 6]] true Y:  [[8, 3, 0, 5, 2, 6, 0, 7, 4, 1, 9, 0, 5, 2, 6]] prediction str:  if youywant you\n",
            "17 loss:  0.9427197575569153 prediction:  [[8 3 0 5 2 6 5 7 4 1 9 0 5 2 6]] true Y:  [[8, 3, 0, 5, 2, 6, 0, 7, 4, 1, 9, 0, 5, 2, 6]] prediction str:  if youywant you\n",
            "18 loss:  0.9314877986907959 prediction:  [[8 3 0 5 2 6 5 7 4 1 9 0 5 2 6]] true Y:  [[8, 3, 0, 5, 2, 6, 0, 7, 4, 1, 9, 0, 5, 2, 6]] prediction str:  if youywant you\n",
            "19 loss:  0.9185202717781067 prediction:  [[8 3 0 5 2 6 5 7 4 1 9 0 5 2 6]] true Y:  [[8, 3, 0, 5, 2, 6, 0, 7, 4, 1, 9, 0, 5, 2, 6]] prediction str:  if youywant you\n",
            "20 loss:  0.9058798551559448 prediction:  [[8 3 0 5 2 6 5 7 4 1 9 0 5 2 6]] true Y:  [[8, 3, 0, 5, 2, 6, 0, 7, 4, 1, 9, 0, 5, 2, 6]] prediction str:  if youywant you\n",
            "21 loss:  0.896544873714447 prediction:  [[8 3 0 5 2 6 0 7 4 1 9 0 5 2 6]] true Y:  [[8, 3, 0, 5, 2, 6, 0, 7, 4, 1, 9, 0, 5, 2, 6]] prediction str:  if you want you\n",
            "22 loss:  0.8898742198944092 prediction:  [[8 3 0 5 2 6 0 7 4 1 9 0 5 2 6]] true Y:  [[8, 3, 0, 5, 2, 6, 0, 7, 4, 1, 9, 0, 5, 2, 6]] prediction str:  if you want you\n",
            "23 loss:  0.8844220638275146 prediction:  [[8 3 0 5 2 6 0 7 4 1 9 0 5 2 6]] true Y:  [[8, 3, 0, 5, 2, 6, 0, 7, 4, 1, 9, 0, 5, 2, 6]] prediction str:  if you want you\n",
            "24 loss:  0.8795226216316223 prediction:  [[8 3 0 5 2 6 0 7 4 1 9 0 5 2 6]] true Y:  [[8, 3, 0, 5, 2, 6, 0, 7, 4, 1, 9, 0, 5, 2, 6]] prediction str:  if you want you\n",
            "25 loss:  0.8749992847442627 prediction:  [[8 3 0 5 2 6 0 7 4 1 9 0 5 2 6]] true Y:  [[8, 3, 0, 5, 2, 6, 0, 7, 4, 1, 9, 0, 5, 2, 6]] prediction str:  if you want you\n",
            "26 loss:  0.8706175088882446 prediction:  [[8 3 0 5 2 6 0 7 4 1 9 0 5 2 6]] true Y:  [[8, 3, 0, 5, 2, 6, 0, 7, 4, 1, 9, 0, 5, 2, 6]] prediction str:  if you want you\n",
            "27 loss:  0.8661208748817444 prediction:  [[8 3 0 5 2 6 0 7 4 1 9 0 5 2 6]] true Y:  [[8, 3, 0, 5, 2, 6, 0, 7, 4, 1, 9, 0, 5, 2, 6]] prediction str:  if you want you\n",
            "28 loss:  0.8615326285362244 prediction:  [[8 3 0 5 2 6 0 7 4 1 9 0 5 2 6]] true Y:  [[8, 3, 0, 5, 2, 6, 0, 7, 4, 1, 9, 0, 5, 2, 6]] prediction str:  if you want you\n",
            "29 loss:  0.8571388125419617 prediction:  [[8 3 0 5 2 6 0 7 4 1 9 0 5 2 6]] true Y:  [[8, 3, 0, 5, 2, 6, 0, 7, 4, 1, 9, 0, 5, 2, 6]] prediction str:  if you want you\n",
            "30 loss:  0.8531796336174011 prediction:  [[8 3 0 5 2 6 0 7 4 1 9 0 5 2 6]] true Y:  [[8, 3, 0, 5, 2, 6, 0, 7, 4, 1, 9, 0, 5, 2, 6]] prediction str:  if you want you\n",
            "31 loss:  0.8496591448783875 prediction:  [[8 3 0 5 2 6 0 7 4 1 9 0 5 2 6]] true Y:  [[8, 3, 0, 5, 2, 6, 0, 7, 4, 1, 9, 0, 5, 2, 6]] prediction str:  if you want you\n",
            "32 loss:  0.8464332818984985 prediction:  [[8 3 0 5 2 6 0 7 4 1 9 0 5 2 6]] true Y:  [[8, 3, 0, 5, 2, 6, 0, 7, 4, 1, 9, 0, 5, 2, 6]] prediction str:  if you want you\n",
            "33 loss:  0.8434150815010071 prediction:  [[8 3 0 5 2 6 0 7 4 1 9 0 5 2 6]] true Y:  [[8, 3, 0, 5, 2, 6, 0, 7, 4, 1, 9, 0, 5, 2, 6]] prediction str:  if you want you\n",
            "34 loss:  0.8406763672828674 prediction:  [[8 3 0 5 2 6 0 7 4 1 9 0 5 2 6]] true Y:  [[8, 3, 0, 5, 2, 6, 0, 7, 4, 1, 9, 0, 5, 2, 6]] prediction str:  if you want you\n",
            "35 loss:  0.8383459448814392 prediction:  [[8 3 0 5 2 6 0 7 4 1 9 0 5 2 6]] true Y:  [[8, 3, 0, 5, 2, 6, 0, 7, 4, 1, 9, 0, 5, 2, 6]] prediction str:  if you want you\n",
            "36 loss:  0.8364137411117554 prediction:  [[8 3 0 5 2 6 0 7 4 1 9 0 5 2 6]] true Y:  [[8, 3, 0, 5, 2, 6, 0, 7, 4, 1, 9, 0, 5, 2, 6]] prediction str:  if you want you\n",
            "37 loss:  0.8347247242927551 prediction:  [[8 3 0 5 2 6 0 7 4 1 9 0 5 2 6]] true Y:  [[8, 3, 0, 5, 2, 6, 0, 7, 4, 1, 9, 0, 5, 2, 6]] prediction str:  if you want you\n",
            "38 loss:  0.833175003528595 prediction:  [[8 3 0 5 2 6 0 7 4 1 9 0 5 2 6]] true Y:  [[8, 3, 0, 5, 2, 6, 0, 7, 4, 1, 9, 0, 5, 2, 6]] prediction str:  if you want you\n",
            "39 loss:  0.8317509293556213 prediction:  [[8 3 0 5 2 6 0 7 4 1 9 0 5 2 6]] true Y:  [[8, 3, 0, 5, 2, 6, 0, 7, 4, 1, 9, 0, 5, 2, 6]] prediction str:  if you want you\n",
            "40 loss:  0.830389142036438 prediction:  [[8 3 0 5 2 6 0 7 4 1 9 0 5 2 6]] true Y:  [[8, 3, 0, 5, 2, 6, 0, 7, 4, 1, 9, 0, 5, 2, 6]] prediction str:  if you want you\n",
            "41 loss:  0.8289878964424133 prediction:  [[8 3 0 5 2 6 0 7 4 1 9 0 5 2 6]] true Y:  [[8, 3, 0, 5, 2, 6, 0, 7, 4, 1, 9, 0, 5, 2, 6]] prediction str:  if you want you\n",
            "42 loss:  0.827593207359314 prediction:  [[8 3 0 5 2 6 0 7 4 1 9 0 5 2 6]] true Y:  [[8, 3, 0, 5, 2, 6, 0, 7, 4, 1, 9, 0, 5, 2, 6]] prediction str:  if you want you\n",
            "43 loss:  0.8263794779777527 prediction:  [[8 3 0 5 2 6 0 7 4 1 9 0 5 2 6]] true Y:  [[8, 3, 0, 5, 2, 6, 0, 7, 4, 1, 9, 0, 5, 2, 6]] prediction str:  if you want you\n",
            "44 loss:  0.8253746032714844 prediction:  [[8 3 0 5 2 6 0 7 4 1 9 0 5 2 6]] true Y:  [[8, 3, 0, 5, 2, 6, 0, 7, 4, 1, 9, 0, 5, 2, 6]] prediction str:  if you want you\n",
            "45 loss:  0.824458658695221 prediction:  [[8 3 0 5 2 6 0 7 4 1 9 0 5 2 6]] true Y:  [[8, 3, 0, 5, 2, 6, 0, 7, 4, 1, 9, 0, 5, 2, 6]] prediction str:  if you want you\n",
            "46 loss:  0.8236493468284607 prediction:  [[8 3 0 5 2 6 0 7 4 1 9 0 5 2 6]] true Y:  [[8, 3, 0, 5, 2, 6, 0, 7, 4, 1, 9, 0, 5, 2, 6]] prediction str:  if you want you\n",
            "47 loss:  0.8229766488075256 prediction:  [[8 3 0 5 2 6 0 7 4 1 9 0 5 2 6]] true Y:  [[8, 3, 0, 5, 2, 6, 0, 7, 4, 1, 9, 0, 5, 2, 6]] prediction str:  if you want you\n",
            "48 loss:  0.8223275542259216 prediction:  [[8 3 0 5 2 6 0 7 4 1 9 0 5 2 6]] true Y:  [[8, 3, 0, 5, 2, 6, 0, 7, 4, 1, 9, 0, 5, 2, 6]] prediction str:  if you want you\n",
            "49 loss:  0.8216437101364136 prediction:  [[8 3 0 5 2 6 0 7 4 1 9 0 5 2 6]] true Y:  [[8, 3, 0, 5, 2, 6, 0, 7, 4, 1, 9, 0, 5, 2, 6]] prediction str:  if you want you\n"
          ]
        }
      ]
    },
    {
      "cell_type": "markdown",
      "source": [
        "# hihello"
      ],
      "metadata": {
        "id": "3jgc2DMs5O2T"
      }
    },
    {
      "cell_type": "code",
      "source": [
        "# declare dictionary\n",
        "char_set = ['h', 'i', 'e', 'l', 'o']"
      ],
      "metadata": {
        "id": "-rXdS2XX5HmZ"
      },
      "execution_count": null,
      "outputs": []
    },
    {
      "cell_type": "code",
      "source": [
        "# hyper parameters\n",
        "input_size = len(char_set)\n",
        "hidden_size = len(char_set)\n",
        "learning_rate = 0.1\n",
        "\n",
        "# data setting\n",
        "x_data = [[0, 1, 0, 2, 3, 3]]\n",
        "x_one_hot = [[[1, 0, 0, 0, 0],\n",
        "              [0, 1, 0, 0, 0],\n",
        "              [1, 0, 0, 0, 0],\n",
        "              [0, 0, 1, 0, 0],\n",
        "              [0, 0, 0, 1, 0],\n",
        "              [0, 0, 0, 1, 0]]]\n",
        "y_data = [[1, 0, 2, 3, 3, 4]]\n",
        "\n",
        "# transform as torch tensor variable\n",
        "X = torch.FloatTensor(x_one_hot)\n",
        "Y = torch.LongTensor(y_data)\n",
        "\n",
        "# declare RNN\n",
        "rnn = torch.nn.RNN(input_size, hidden_size, batch_first=True)  # batch_first guarantees the order of output = (B, S, F)\n",
        "\n",
        "# loss & optimizer setting\n",
        "criterion = torch.nn.CrossEntropyLoss()\n",
        "optimizer = optim.Adam(rnn.parameters(), learning_rate)"
      ],
      "metadata": {
        "id": "nSgAucWn5Ti6"
      },
      "execution_count": null,
      "outputs": []
    },
    {
      "cell_type": "code",
      "source": [
        "# start training\n",
        "for i in range(100):\n",
        "    optimizer.zero_grad()\n",
        "    outputs, _status = rnn(X)\n",
        "    loss = criterion(outputs.view(-1, input_size), Y.view(-1))\n",
        "    loss.backward()\n",
        "    optimizer.step()\n",
        "\n",
        "    result = outputs.data.numpy().argmax(axis=2)\n",
        "    result_str = ''.join([char_set[c] for c in np.squeeze(result)])\n",
        "    print(i, \"loss: \", loss.item(), \"prediction: \", result, \"true Y: \", y_data, \"prediction str: \", result_str)"
      ],
      "metadata": {
        "id": "5XIDGL0h5YVn",
        "outputId": "c542a6de-8407-4a8f-ed38-68c6fc02d911",
        "colab": {
          "base_uri": "https://localhost:8080/"
        }
      },
      "execution_count": null,
      "outputs": [
        {
          "output_type": "stream",
          "name": "stdout",
          "text": [
            "0 loss:  1.6195731163024902 prediction:  [[1 0 1 0 1 1]] true Y:  [[1, 0, 2, 3, 3, 4]] prediction str:  ihihii\n",
            "1 loss:  1.3715907335281372 prediction:  [[1 3 4 3 4 4]] true Y:  [[1, 0, 2, 3, 3, 4]] prediction str:  iloloo\n",
            "2 loss:  1.193650722503662 prediction:  [[1 3 4 3 3 3]] true Y:  [[1, 0, 2, 3, 3, 4]] prediction str:  ilolll\n",
            "3 loss:  1.0492380857467651 prediction:  [[1 3 2 3 3 3]] true Y:  [[1, 0, 2, 3, 3, 4]] prediction str:  ilelll\n",
            "4 loss:  0.9567904472351074 prediction:  [[1 0 2 3 3 3]] true Y:  [[1, 0, 2, 3, 3, 4]] prediction str:  ihelll\n",
            "5 loss:  0.8933460116386414 prediction:  [[1 0 2 3 3 3]] true Y:  [[1, 0, 2, 3, 3, 4]] prediction str:  ihelll\n",
            "6 loss:  0.8388312458992004 prediction:  [[1 0 2 3 3 3]] true Y:  [[1, 0, 2, 3, 3, 4]] prediction str:  ihelll\n",
            "7 loss:  0.7969386577606201 prediction:  [[1 0 2 3 3 3]] true Y:  [[1, 0, 2, 3, 3, 4]] prediction str:  ihelll\n",
            "8 loss:  0.7649832367897034 prediction:  [[1 0 2 3 3 3]] true Y:  [[1, 0, 2, 3, 3, 4]] prediction str:  ihelll\n",
            "9 loss:  0.7416887283325195 prediction:  [[1 0 2 3 3 3]] true Y:  [[1, 0, 2, 3, 3, 4]] prediction str:  ihelll\n",
            "10 loss:  0.72569340467453 prediction:  [[1 0 2 3 3 3]] true Y:  [[1, 0, 2, 3, 3, 4]] prediction str:  ihelll\n",
            "11 loss:  0.7091264724731445 prediction:  [[1 0 2 3 3 3]] true Y:  [[1, 0, 2, 3, 3, 4]] prediction str:  ihelll\n",
            "12 loss:  0.6901369690895081 prediction:  [[1 0 2 3 3 3]] true Y:  [[1, 0, 2, 3, 3, 4]] prediction str:  ihelll\n",
            "13 loss:  0.6748218536376953 prediction:  [[1 0 2 3 3 3]] true Y:  [[1, 0, 2, 3, 3, 4]] prediction str:  ihelll\n",
            "14 loss:  0.668386697769165 prediction:  [[1 0 2 3 3 3]] true Y:  [[1, 0, 2, 3, 3, 4]] prediction str:  ihelll\n",
            "15 loss:  0.663118302822113 prediction:  [[1 0 2 3 3 3]] true Y:  [[1, 0, 2, 3, 3, 4]] prediction str:  ihelll\n",
            "16 loss:  0.6538329124450684 prediction:  [[1 0 2 3 3 3]] true Y:  [[1, 0, 2, 3, 3, 4]] prediction str:  ihelll\n",
            "17 loss:  0.6435408592224121 prediction:  [[1 0 2 3 3 3]] true Y:  [[1, 0, 2, 3, 3, 4]] prediction str:  ihelll\n",
            "18 loss:  0.6381643414497375 prediction:  [[1 0 2 3 3 3]] true Y:  [[1, 0, 2, 3, 3, 4]] prediction str:  ihelll\n",
            "19 loss:  0.6362099051475525 prediction:  [[1 0 2 3 3 4]] true Y:  [[1, 0, 2, 3, 3, 4]] prediction str:  ihello\n",
            "20 loss:  0.6308230757713318 prediction:  [[1 0 2 3 3 4]] true Y:  [[1, 0, 2, 3, 3, 4]] prediction str:  ihello\n",
            "21 loss:  0.6230649352073669 prediction:  [[1 0 2 3 3 4]] true Y:  [[1, 0, 2, 3, 3, 4]] prediction str:  ihello\n",
            "22 loss:  0.6182989478111267 prediction:  [[1 0 2 3 3 4]] true Y:  [[1, 0, 2, 3, 3, 4]] prediction str:  ihello\n",
            "23 loss:  0.6138479709625244 prediction:  [[1 0 2 3 3 4]] true Y:  [[1, 0, 2, 3, 3, 4]] prediction str:  ihello\n",
            "24 loss:  0.6051734685897827 prediction:  [[1 0 2 3 3 4]] true Y:  [[1, 0, 2, 3, 3, 4]] prediction str:  ihello\n",
            "25 loss:  0.5927531123161316 prediction:  [[1 0 2 3 3 4]] true Y:  [[1, 0, 2, 3, 3, 4]] prediction str:  ihello\n",
            "26 loss:  0.5811678171157837 prediction:  [[1 0 2 3 3 4]] true Y:  [[1, 0, 2, 3, 3, 4]] prediction str:  ihello\n",
            "27 loss:  0.5741091370582581 prediction:  [[1 0 2 3 3 4]] true Y:  [[1, 0, 2, 3, 3, 4]] prediction str:  ihello\n",
            "28 loss:  0.5705794095993042 prediction:  [[1 0 2 3 3 4]] true Y:  [[1, 0, 2, 3, 3, 4]] prediction str:  ihello\n",
            "29 loss:  0.5667977929115295 prediction:  [[1 0 2 3 3 4]] true Y:  [[1, 0, 2, 3, 3, 4]] prediction str:  ihello\n",
            "30 loss:  0.5599715113639832 prediction:  [[1 0 2 3 3 4]] true Y:  [[1, 0, 2, 3, 3, 4]] prediction str:  ihello\n",
            "31 loss:  0.5516430139541626 prediction:  [[1 0 2 3 3 4]] true Y:  [[1, 0, 2, 3, 3, 4]] prediction str:  ihello\n",
            "32 loss:  0.5443651080131531 prediction:  [[1 0 2 3 3 4]] true Y:  [[1, 0, 2, 3, 3, 4]] prediction str:  ihello\n",
            "33 loss:  0.5389471054077148 prediction:  [[1 0 2 3 3 4]] true Y:  [[1, 0, 2, 3, 3, 4]] prediction str:  ihello\n",
            "34 loss:  0.5338901877403259 prediction:  [[1 0 2 3 3 4]] true Y:  [[1, 0, 2, 3, 3, 4]] prediction str:  ihello\n",
            "35 loss:  0.5291732549667358 prediction:  [[1 0 2 3 3 4]] true Y:  [[1, 0, 2, 3, 3, 4]] prediction str:  ihello\n",
            "36 loss:  0.5251831412315369 prediction:  [[1 0 2 3 3 4]] true Y:  [[1, 0, 2, 3, 3, 4]] prediction str:  ihello\n",
            "37 loss:  0.5212030410766602 prediction:  [[1 0 2 3 3 4]] true Y:  [[1, 0, 2, 3, 3, 4]] prediction str:  ihello\n",
            "38 loss:  0.5170686841011047 prediction:  [[1 0 2 3 3 4]] true Y:  [[1, 0, 2, 3, 3, 4]] prediction str:  ihello\n",
            "39 loss:  0.5134219527244568 prediction:  [[1 0 2 3 3 4]] true Y:  [[1, 0, 2, 3, 3, 4]] prediction str:  ihello\n",
            "40 loss:  0.5105752348899841 prediction:  [[1 0 2 3 3 4]] true Y:  [[1, 0, 2, 3, 3, 4]] prediction str:  ihello\n",
            "41 loss:  0.5077553391456604 prediction:  [[1 0 2 3 3 4]] true Y:  [[1, 0, 2, 3, 3, 4]] prediction str:  ihello\n",
            "42 loss:  0.5049616694450378 prediction:  [[1 0 2 3 3 4]] true Y:  [[1, 0, 2, 3, 3, 4]] prediction str:  ihello\n",
            "43 loss:  0.5026267766952515 prediction:  [[1 0 2 3 3 4]] true Y:  [[1, 0, 2, 3, 3, 4]] prediction str:  ihello\n",
            "44 loss:  0.5003975629806519 prediction:  [[1 0 2 3 3 4]] true Y:  [[1, 0, 2, 3, 3, 4]] prediction str:  ihello\n",
            "45 loss:  0.497997522354126 prediction:  [[1 0 2 3 3 4]] true Y:  [[1, 0, 2, 3, 3, 4]] prediction str:  ihello\n",
            "46 loss:  0.4956955909729004 prediction:  [[1 0 2 3 3 4]] true Y:  [[1, 0, 2, 3, 3, 4]] prediction str:  ihello\n",
            "47 loss:  0.4937240183353424 prediction:  [[1 0 2 3 3 4]] true Y:  [[1, 0, 2, 3, 3, 4]] prediction str:  ihello\n",
            "48 loss:  0.4917576313018799 prediction:  [[1 0 2 3 3 4]] true Y:  [[1, 0, 2, 3, 3, 4]] prediction str:  ihello\n",
            "49 loss:  0.48991093039512634 prediction:  [[1 0 2 3 3 4]] true Y:  [[1, 0, 2, 3, 3, 4]] prediction str:  ihello\n",
            "50 loss:  0.4884755611419678 prediction:  [[1 0 2 3 3 4]] true Y:  [[1, 0, 2, 3, 3, 4]] prediction str:  ihello\n",
            "51 loss:  0.48716092109680176 prediction:  [[1 0 2 3 3 4]] true Y:  [[1, 0, 2, 3, 3, 4]] prediction str:  ihello\n",
            "52 loss:  0.485899955034256 prediction:  [[1 0 2 3 3 4]] true Y:  [[1, 0, 2, 3, 3, 4]] prediction str:  ihello\n",
            "53 loss:  0.4848775565624237 prediction:  [[1 0 2 3 3 4]] true Y:  [[1, 0, 2, 3, 3, 4]] prediction str:  ihello\n",
            "54 loss:  0.4838322103023529 prediction:  [[1 0 2 3 3 4]] true Y:  [[1, 0, 2, 3, 3, 4]] prediction str:  ihello\n",
            "55 loss:  0.4827629029750824 prediction:  [[1 0 2 3 3 4]] true Y:  [[1, 0, 2, 3, 3, 4]] prediction str:  ihello\n",
            "56 loss:  0.48185697197914124 prediction:  [[1 0 2 3 3 4]] true Y:  [[1, 0, 2, 3, 3, 4]] prediction str:  ihello\n",
            "57 loss:  0.48093438148498535 prediction:  [[1 0 2 3 3 4]] true Y:  [[1, 0, 2, 3, 3, 4]] prediction str:  ihello\n",
            "58 loss:  0.48006734251976013 prediction:  [[1 0 2 3 3 4]] true Y:  [[1, 0, 2, 3, 3, 4]] prediction str:  ihello\n",
            "59 loss:  0.4793555736541748 prediction:  [[1 0 2 3 3 4]] true Y:  [[1, 0, 2, 3, 3, 4]] prediction str:  ihello\n",
            "60 loss:  0.4786235988140106 prediction:  [[1 0 2 3 3 4]] true Y:  [[1, 0, 2, 3, 3, 4]] prediction str:  ihello\n",
            "61 loss:  0.4779594838619232 prediction:  [[1 0 2 3 3 4]] true Y:  [[1, 0, 2, 3, 3, 4]] prediction str:  ihello\n",
            "62 loss:  0.477364182472229 prediction:  [[1 0 2 3 3 4]] true Y:  [[1, 0, 2, 3, 3, 4]] prediction str:  ihello\n",
            "63 loss:  0.47672832012176514 prediction:  [[1 0 2 3 3 4]] true Y:  [[1, 0, 2, 3, 3, 4]] prediction str:  ihello\n",
            "64 loss:  0.47614529728889465 prediction:  [[1 0 2 3 3 4]] true Y:  [[1, 0, 2, 3, 3, 4]] prediction str:  ihello\n",
            "65 loss:  0.47559237480163574 prediction:  [[1 0 2 3 3 4]] true Y:  [[1, 0, 2, 3, 3, 4]] prediction str:  ihello\n",
            "66 loss:  0.4750206470489502 prediction:  [[1 0 2 3 3 4]] true Y:  [[1, 0, 2, 3, 3, 4]] prediction str:  ihello\n",
            "67 loss:  0.4745217561721802 prediction:  [[1 0 2 3 3 4]] true Y:  [[1, 0, 2, 3, 3, 4]] prediction str:  ihello\n",
            "68 loss:  0.4740316867828369 prediction:  [[1 0 2 3 3 4]] true Y:  [[1, 0, 2, 3, 3, 4]] prediction str:  ihello\n",
            "69 loss:  0.47356274724006653 prediction:  [[1 0 2 3 3 4]] true Y:  [[1, 0, 2, 3, 3, 4]] prediction str:  ihello\n",
            "70 loss:  0.4731486737728119 prediction:  [[1 0 2 3 3 4]] true Y:  [[1, 0, 2, 3, 3, 4]] prediction str:  ihello\n",
            "71 loss:  0.4727219045162201 prediction:  [[1 0 2 3 3 4]] true Y:  [[1, 0, 2, 3, 3, 4]] prediction str:  ihello\n",
            "72 loss:  0.47233355045318604 prediction:  [[1 0 2 3 3 4]] true Y:  [[1, 0, 2, 3, 3, 4]] prediction str:  ihello\n",
            "73 loss:  0.4719553291797638 prediction:  [[1 0 2 3 3 4]] true Y:  [[1, 0, 2, 3, 3, 4]] prediction str:  ihello\n",
            "74 loss:  0.47157636284828186 prediction:  [[1 0 2 3 3 4]] true Y:  [[1, 0, 2, 3, 3, 4]] prediction str:  ihello\n",
            "75 loss:  0.47123098373413086 prediction:  [[1 0 2 3 3 4]] true Y:  [[1, 0, 2, 3, 3, 4]] prediction str:  ihello\n",
            "76 loss:  0.47087809443473816 prediction:  [[1 0 2 3 3 4]] true Y:  [[1, 0, 2, 3, 3, 4]] prediction str:  ihello\n",
            "77 loss:  0.47055092453956604 prediction:  [[1 0 2 3 3 4]] true Y:  [[1, 0, 2, 3, 3, 4]] prediction str:  ihello\n",
            "78 loss:  0.4702354669570923 prediction:  [[1 0 2 3 3 4]] true Y:  [[1, 0, 2, 3, 3, 4]] prediction str:  ihello\n",
            "79 loss:  0.4699249267578125 prediction:  [[1 0 2 3 3 4]] true Y:  [[1, 0, 2, 3, 3, 4]] prediction str:  ihello\n",
            "80 loss:  0.4696377217769623 prediction:  [[1 0 2 3 3 4]] true Y:  [[1, 0, 2, 3, 3, 4]] prediction str:  ihello\n",
            "81 loss:  0.4693465232849121 prediction:  [[1 0 2 3 3 4]] true Y:  [[1, 0, 2, 3, 3, 4]] prediction str:  ihello\n",
            "82 loss:  0.46907171607017517 prediction:  [[1 0 2 3 3 4]] true Y:  [[1, 0, 2, 3, 3, 4]] prediction str:  ihello\n",
            "83 loss:  0.4687998294830322 prediction:  [[1 0 2 3 3 4]] true Y:  [[1, 0, 2, 3, 3, 4]] prediction str:  ihello\n",
            "84 loss:  0.46853193640708923 prediction:  [[1 0 2 3 3 4]] true Y:  [[1, 0, 2, 3, 3, 4]] prediction str:  ihello\n",
            "85 loss:  0.46827635169029236 prediction:  [[1 0 2 3 3 4]] true Y:  [[1, 0, 2, 3, 3, 4]] prediction str:  ihello\n",
            "86 loss:  0.4680197536945343 prediction:  [[1 0 2 3 3 4]] true Y:  [[1, 0, 2, 3, 3, 4]] prediction str:  ihello\n",
            "87 loss:  0.46777763962745667 prediction:  [[1 0 2 3 3 4]] true Y:  [[1, 0, 2, 3, 3, 4]] prediction str:  ihello\n",
            "88 loss:  0.4675375521183014 prediction:  [[1 0 2 3 3 4]] true Y:  [[1, 0, 2, 3, 3, 4]] prediction str:  ihello\n",
            "89 loss:  0.4673072099685669 prediction:  [[1 0 2 3 3 4]] true Y:  [[1, 0, 2, 3, 3, 4]] prediction str:  ihello\n",
            "90 loss:  0.467083215713501 prediction:  [[1 0 2 3 3 4]] true Y:  [[1, 0, 2, 3, 3, 4]] prediction str:  ihello\n",
            "91 loss:  0.4668630063533783 prediction:  [[1 0 2 3 3 4]] true Y:  [[1, 0, 2, 3, 3, 4]] prediction str:  ihello\n",
            "92 loss:  0.466651052236557 prediction:  [[1 0 2 3 3 4]] true Y:  [[1, 0, 2, 3, 3, 4]] prediction str:  ihello\n",
            "93 loss:  0.4664398729801178 prediction:  [[1 0 2 3 3 4]] true Y:  [[1, 0, 2, 3, 3, 4]] prediction str:  ihello\n",
            "94 loss:  0.4662366807460785 prediction:  [[1 0 2 3 3 4]] true Y:  [[1, 0, 2, 3, 3, 4]] prediction str:  ihello\n",
            "95 loss:  0.46603432297706604 prediction:  [[1 0 2 3 3 4]] true Y:  [[1, 0, 2, 3, 3, 4]] prediction str:  ihello\n",
            "96 loss:  0.46583858132362366 prediction:  [[1 0 2 3 3 4]] true Y:  [[1, 0, 2, 3, 3, 4]] prediction str:  ihello\n",
            "97 loss:  0.46564558148384094 prediction:  [[1 0 2 3 3 4]] true Y:  [[1, 0, 2, 3, 3, 4]] prediction str:  ihello\n",
            "98 loss:  0.4654572308063507 prediction:  [[1 0 2 3 3 4]] true Y:  [[1, 0, 2, 3, 3, 4]] prediction str:  ihello\n",
            "99 loss:  0.4652731418609619 prediction:  [[1 0 2 3 3 4]] true Y:  [[1, 0, 2, 3, 3, 4]] prediction str:  ihello\n"
          ]
        }
      ]
    }
  ]
}